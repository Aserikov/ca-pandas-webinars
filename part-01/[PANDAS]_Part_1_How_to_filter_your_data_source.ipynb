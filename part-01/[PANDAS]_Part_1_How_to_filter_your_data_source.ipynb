{
  "nbformat": 4,
  "nbformat_minor": 0,
  "metadata": {
    "colab": {
      "name": "[PANDAS] Part 1 - How to filter your data source.ipynb",
      "provenance": [],
      "collapsed_sections": []
    },
    "kernelspec": {
      "name": "python3",
      "display_name": "Python 3"
    }
  },
  "cells": [
    {
      "cell_type": "code",
      "metadata": {
        "id": "1UFZA5WDkNUs",
        "colab": {
          "base_uri": "https://localhost:8080/"
        },
        "outputId": "cf6cb1f4-c425-437f-9a25-73d476314747"
      },
      "source": [
        "from google.colab import drive\n",
        "drive.mount('/content/drive')"
      ],
      "execution_count": 1,
      "outputs": [
        {
          "output_type": "stream",
          "text": [
            "Mounted at /content/drive\n"
          ],
          "name": "stdout"
        }
      ]
    },
    {
      "cell_type": "code",
      "metadata": {
        "id": "uQSHAuY3Tmk-"
      },
      "source": [
        "import pandas as pd"
      ],
      "execution_count": 2,
      "outputs": []
    },
    {
      "cell_type": "code",
      "metadata": {
        "id": "IJAU_oSiTtNx"
      },
      "source": [
        "elections = pd.read_csv('/content/drive/MyDrive/ca.webinars/Pandas Series/data/usa_elections2012_pa.csv')"
      ],
      "execution_count": 3,
      "outputs": []
    },
    {
      "cell_type": "code",
      "metadata": {
        "colab": {
          "base_uri": "https://localhost:8080/",
          "height": 204
        },
        "id": "r7fnY3AHUMC9",
        "outputId": "3143833e-cd85-44d7-a768-627337e09b2c"
      },
      "source": [
        "elections.head()"
      ],
      "execution_count": 4,
      "outputs": [
        {
          "output_type": "execute_result",
          "data": {
            "text/html": [
              "<div>\n",
              "<style scoped>\n",
              "    .dataframe tbody tr th:only-of-type {\n",
              "        vertical-align: middle;\n",
              "    }\n",
              "\n",
              "    .dataframe tbody tr th {\n",
              "        vertical-align: top;\n",
              "    }\n",
              "\n",
              "    .dataframe thead th {\n",
              "        text-align: right;\n",
              "    }\n",
              "</style>\n",
              "<table border=\"1\" class=\"dataframe\">\n",
              "  <thead>\n",
              "    <tr style=\"text-align: right;\">\n",
              "      <th></th>\n",
              "      <th>county</th>\n",
              "      <th>state</th>\n",
              "      <th>total</th>\n",
              "      <th>Obama</th>\n",
              "      <th>Romney</th>\n",
              "      <th>winner</th>\n",
              "      <th>voters</th>\n",
              "      <th>turnout</th>\n",
              "      <th>margin</th>\n",
              "    </tr>\n",
              "  </thead>\n",
              "  <tbody>\n",
              "    <tr>\n",
              "      <th>0</th>\n",
              "      <td>Adams</td>\n",
              "      <td>PA</td>\n",
              "      <td>41973</td>\n",
              "      <td>35.482334</td>\n",
              "      <td>63.112001</td>\n",
              "      <td>Romney</td>\n",
              "      <td>61156</td>\n",
              "      <td>68.632677</td>\n",
              "      <td>27.629667</td>\n",
              "    </tr>\n",
              "    <tr>\n",
              "      <th>1</th>\n",
              "      <td>Allegheny</td>\n",
              "      <td>PA</td>\n",
              "      <td>614671</td>\n",
              "      <td>56.640219</td>\n",
              "      <td>42.185820</td>\n",
              "      <td>Obama</td>\n",
              "      <td>924351</td>\n",
              "      <td>66.497575</td>\n",
              "      <td>14.454399</td>\n",
              "    </tr>\n",
              "    <tr>\n",
              "      <th>2</th>\n",
              "      <td>Armstrong</td>\n",
              "      <td>PA</td>\n",
              "      <td>28322</td>\n",
              "      <td>30.696985</td>\n",
              "      <td>67.901278</td>\n",
              "      <td>Romney</td>\n",
              "      <td>42147</td>\n",
              "      <td>67.198140</td>\n",
              "      <td>37.204293</td>\n",
              "    </tr>\n",
              "    <tr>\n",
              "      <th>3</th>\n",
              "      <td>Beaver</td>\n",
              "      <td>PA</td>\n",
              "      <td>80015</td>\n",
              "      <td>46.032619</td>\n",
              "      <td>52.637630</td>\n",
              "      <td>Romney</td>\n",
              "      <td>115157</td>\n",
              "      <td>69.483401</td>\n",
              "      <td>6.605012</td>\n",
              "    </tr>\n",
              "    <tr>\n",
              "      <th>4</th>\n",
              "      <td>Bedford</td>\n",
              "      <td>PA</td>\n",
              "      <td>21444</td>\n",
              "      <td>22.057452</td>\n",
              "      <td>76.986570</td>\n",
              "      <td>Romney</td>\n",
              "      <td>32189</td>\n",
              "      <td>66.619031</td>\n",
              "      <td>54.929118</td>\n",
              "    </tr>\n",
              "  </tbody>\n",
              "</table>\n",
              "</div>"
            ],
            "text/plain": [
              "      county state   total      Obama  ...  winner  voters    turnout     margin\n",
              "0      Adams    PA   41973  35.482334  ...  Romney   61156  68.632677  27.629667\n",
              "1  Allegheny    PA  614671  56.640219  ...   Obama  924351  66.497575  14.454399\n",
              "2  Armstrong    PA   28322  30.696985  ...  Romney   42147  67.198140  37.204293\n",
              "3     Beaver    PA   80015  46.032619  ...  Romney  115157  69.483401   6.605012\n",
              "4    Bedford    PA   21444  22.057452  ...  Romney   32189  66.619031  54.929118\n",
              "\n",
              "[5 rows x 9 columns]"
            ]
          },
          "metadata": {
            "tags": []
          },
          "execution_count": 4
        }
      ]
    }
  ]
}